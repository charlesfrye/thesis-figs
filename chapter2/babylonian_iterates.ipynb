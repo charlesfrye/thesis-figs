{
 "cells": [
  {
   "cell_type": "code",
   "execution_count": null,
   "metadata": {},
   "outputs": [],
   "source": [
    "import sys\n",
    "\n",
    "import autograd.numpy as np\n",
    "import matplotlib as mpl\n",
    "import matplotlib.pyplot as plt\n",
    "\n",
    "sys.path.append(\"..\")\n",
    "\n",
    "import shared.format\n",
    "import shared.tools"
   ]
  },
  {
   "cell_type": "code",
   "execution_count": null,
   "metadata": {},
   "outputs": [],
   "source": [
    "plt.rcParams[\"font.size\"] = shared.format.FONTSIZE"
   ]
  },
  {
   "cell_type": "code",
   "execution_count": null,
   "metadata": {},
   "outputs": [],
   "source": [
    "def babylon_step(theta_t, x):\n",
    "    return theta_t / 2  + x / theta_t / 2"
   ]
  },
  {
   "cell_type": "code",
   "execution_count": null,
   "metadata": {},
   "outputs": [],
   "source": [
    "def babylon_iterate(T, x, theta_0):\n",
    "    thetas = np.zeros(T + 1)\n",
    "    thetas[0] = theta_0\n",
    "    for tt in range(T):\n",
    "        thetas[tt + 1] = babylon_step(thetas[tt], x)\n",
    "    return thetas"
   ]
  },
  {
   "cell_type": "code",
   "execution_count": null,
   "metadata": {},
   "outputs": [],
   "source": [
    "def make_square(side_length, color, **kwargs):\n",
    "    color_as_array = np.array(mpl.colors.to_rgb(color))\n",
    "    face_color = 0.5 * color_as_array + 0.5 * 0.67 * np.ones(3)\n",
    "    return mpl.patches.Rectangle(\n",
    "        (0, 1), side_length, -side_length,\n",
    "        fill=True,\n",
    "        facecolor=face_color, edgecolor=color, lw=shared.format.LINEWIDTH,\n",
    "        **kwargs)\n",
    "\n",
    "def make_babylon_diagram(x, theta, square_colors=[\"C1\", \"xkcd:brick\", \"k\", \"C0\"], ax=None,\n",
    "                         axis_offset=0.25, text_offset=0.1):\n",
    "    if ax is None:\n",
    "        f, ax = plt.subplots(figsize=(8, 8))\n",
    "    x_div_theta = x / theta\n",
    "    next_theta = babylon_step(theta, x)\n",
    "    square_lengths = [theta, next_theta, np.sqrt(x), x_div_theta]\n",
    "    squares = [make_square(length, color=color)\n",
    "               for length, color in zip(square_lengths, square_colors)]\n",
    "    [ax.add_artist(square) for square in squares]\n",
    "    ax.axis(\"off\")\n",
    "    ax.axis(\"equal\")\n",
    "    ax.set_xlim(-axis_offset, max(square_lengths) + axis_offset)\n",
    "    ax.set_ylim(1 - max(square_lengths) - axis_offset, 1 + axis_offset)\n",
    "    \n",
    "    label_size = shared.format.FONTSIZE + 6\n",
    "    xpos_verts = -text_offset\n",
    "    ypos_horzs = 1 + text_offset\n",
    "    vert_kwargs = {\"fontsize\": label_size,\n",
    "                   \"rotation\": \"vertical\",\n",
    "                   \"horizontalalignment\": \"center\",\n",
    "                   \"verticalalignment\": \"bottom\"}\n",
    "    horz_kwargs = {\"fontsize\": label_size,\n",
    "                   \"rotation\": \"horizontal\",\n",
    "                   \"horizontalalignment\": \"left\",\n",
    "                   \"verticalalignment\": \"center\"}\n",
    "\n",
    "    ax.text(xpos_verts, 1 - np.sqrt(x), r\"$\\sqrt{x}$\",\n",
    "            color=square_colors[2], **vert_kwargs)\n",
    "    ax.text(xpos_verts, 1 - x_div_theta, r\"$x \\div \\theta_t$\",\n",
    "            color=square_colors[3], **vert_kwargs)\n",
    "    \n",
    "    ax.text(next_theta, ypos_horzs, r\"$\\theta_{t+1}$\",\n",
    "            color=square_colors[1], **horz_kwargs)\n",
    "    ax.text(theta, ypos_horzs, r\"$\\theta_{t}$\",\n",
    "            color=square_colors[0], **horz_kwargs)"
   ]
  },
  {
   "cell_type": "code",
   "execution_count": null,
   "metadata": {},
   "outputs": [],
   "source": [
    "fig = plt.figure(figsize=(12, 6))\n",
    "grid = mpl.gridspec.GridSpec(2, 2, figure=fig)\n",
    "\n",
    "T = 6\n",
    "x = 4\n",
    "theta_0 = 0.8\n",
    "iterates = babylon_iterate(T, x, theta_0)\n",
    "\n",
    "iteration_to_plot = 1\n",
    "theta_t = iterates[1]\n",
    "\n",
    "diagram_ax = fig.add_subplot(grid[:, 0])\n",
    "make_babylon_diagram(x, theta_t, ax=diagram_ax, axis_offset=0.2, text_offset=0.11)\n",
    "\n",
    "value_ax = fig.add_subplot(grid[0, 1])\n",
    "value_ax.plot(iterates, lw=shared.format.LINEWIDTH)\n",
    "xlims = value_ax.get_xlim()\n",
    "value_ax.hlines(np.sqrt(x), xlims[0] - 1, xlims[1] + 1,\n",
    "                zorder=1, lw=shared.format.LINEWIDTH - 2, color=\"k\", linestyle=\"--\")\n",
    "value_ax.set_xlim(*xlims)\n",
    "value_ax.set_ylabel(r\"$\\theta$\", size=shared.format.FONTSIZE + 2)\n",
    "value_ax.scatter(iteration_to_plot, theta_t, color=\"C1\", zorder=3, s=81)\n",
    "value_ax.scatter(iteration_to_plot + 1, iterates[iteration_to_plot + 1],\n",
    "                 color=\"xkcd:brick\", zorder=3, s=81)\n",
    "\n",
    "error_ax = fig.add_subplot(grid[1, 1], sharex=value_ax)\n",
    "error_ax.semilogy(np.abs(iterates - 2), lw=shared.format.LINEWIDTH);\n",
    "error_ax.set_ylabel(\"Absolute Error\", size=shared.format.FONTSIZE + 2);\n",
    "error_ax.set_xlabel(\"Iteration $t$\", size=shared.format.FONTSIZE + 2);\n",
    "error_ax.set_yticks([1e0, 1e-5, 1e-10])\n",
    "\n",
    "plt.tight_layout()\n",
    "shared.tools.add_panel_label(\"A\", diagram_ax, pos=(0, 1.06))\n",
    "shared.tools.add_panel_label(\"B\", value_ax)\n",
    "shared.tools.add_panel_label(\"C\", error_ax)\n",
    "plt.savefig(\"babylon.pdf\")"
   ]
  }
 ],
 "metadata": {
  "kernelspec": {
   "display_name": "Python 3",
   "language": "python",
   "name": "python3"
  },
  "language_info": {
   "codemirror_mode": {
    "name": "ipython",
    "version": 3
   },
   "file_extension": ".py",
   "mimetype": "text/x-python",
   "name": "python",
   "nbconvert_exporter": "python",
   "pygments_lexer": "ipython3",
   "version": "3.7.3"
  }
 },
 "nbformat": 4,
 "nbformat_minor": 4
}

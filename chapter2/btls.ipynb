{
 "cells": [
  {
   "cell_type": "code",
   "execution_count": null,
   "metadata": {},
   "outputs": [],
   "source": [
    "import sys\n",
    "\n",
    "import autograd\n",
    "import autograd.numpy as np\n",
    "import matplotlib as mpl\n",
    "import matplotlib.pyplot as plt"
   ]
  },
  {
   "cell_type": "code",
   "execution_count": null,
   "metadata": {},
   "outputs": [],
   "source": [
    "sys.path.append(\"..\")\n",
    "\n",
    "import shared.format\n",
    "import shared.tools"
   ]
  },
  {
   "cell_type": "code",
   "execution_count": null,
   "metadata": {},
   "outputs": [],
   "source": [
    "import autocrit"
   ]
  },
  {
   "cell_type": "code",
   "execution_count": null,
   "metadata": {},
   "outputs": [],
   "source": [
    "plt.rcParams[\"font.size\"] = shared.format.FONTSIZE"
   ]
  },
  {
   "cell_type": "code",
   "execution_count": null,
   "metadata": {},
   "outputs": [],
   "source": [
    "def f(x):\n",
    "    return np.power(np.abs(x), 1.5)\n",
    "\n",
    "grad = autograd.grad(f)\n",
    "hess = autograd.hessian(f)\n",
    "\n",
    "def taylor(at_x, from_x, degree=2):\n",
    "    delta = (at_x - from_x)\n",
    "    return f(from_x) + grad(from_x) * delta  + 0.5 * delta * hess(from_x) * delta"
   ]
  },
  {
   "cell_type": "code",
   "execution_count": null,
   "metadata": {},
   "outputs": [],
   "source": [
    "btls = autocrit.newtons.NewtonBTLS(f, alpha=1., beta=0.9)"
   ]
  },
  {
   "cell_type": "code",
   "execution_count": null,
   "metadata": {},
   "outputs": [],
   "source": [
    "btls.select_update(-1., 2.)"
   ]
  },
  {
   "cell_type": "code",
   "execution_count": null,
   "metadata": {},
   "outputs": [],
   "source": [
    "alphas = np.linspace(0, 1, num=100)\n",
    "alpha_acceptable = [\n",
    "    btls.check_convergence(-1., 2., alpha, 0.2) for alpha in alphas]"
   ]
  },
  {
   "cell_type": "code",
   "execution_count": null,
   "metadata": {},
   "outputs": [],
   "source": [
    "def compute_sufficient_decrease(theta, update_direction, alpha, rho):\n",
    "    return 2 * rho * alpha * hess(theta) * update_direction * grad(theta)"
   ]
  },
  {
   "cell_type": "code",
   "execution_count": null,
   "metadata": {},
   "outputs": [],
   "source": [
    "acceptable_alphas = alphas[alpha_acceptable]\n",
    "acceptable_xs = -1 + acceptable_alphas * 2"
   ]
  },
  {
   "cell_type": "code",
   "execution_count": null,
   "metadata": {},
   "outputs": [],
   "source": [
    "btls_alphas = [0.9 ** k for k in range(50)]\n",
    "btls_xs = [-1. + 2 * btls_alpha for btls_alpha in btls_alphas]"
   ]
  },
  {
   "cell_type": "code",
   "execution_count": null,
   "metadata": {},
   "outputs": [],
   "source": [
    "sufficient_decrease = [compute_sufficient_decrease(-1., 2., alpha, 0.2) for alpha in alphas]\n",
    "xs_at_alphas = -1 + alphas * 2"
   ]
  },
  {
   "cell_type": "code",
   "execution_count": null,
   "metadata": {},
   "outputs": [],
   "source": [
    "selected_x = np.max(np.array(btls_xs)[btls_xs < np.max(acceptable_xs)])"
   ]
  },
  {
   "cell_type": "code",
   "execution_count": null,
   "metadata": {},
   "outputs": [],
   "source": [
    "fig = plt.figure(figsize=(6, 12))\n",
    "g = mpl.gridspec.GridSpec(2, 1)\n",
    "\n",
    "func_ax = fig.add_subplot(g[0, :])\n",
    "sgn_ax = fig.add_subplot(g[1, :])\n",
    "\n",
    "xs = np.linspace(-2, 2, num=1000)\n",
    "func_ax.plot(xs, [f(x) for x in xs], lw=shared.format.LINEWIDTH, color=\"C1\");\n",
    "func_ax.scatter(-1., f(-1.), color=\"C1\", s=189,\n",
    "                label=r\"$\\theta_0$\")\n",
    "func_ax.scatter(selected_x, f(selected_x), color=\"C1\", s=400, marker=\"*\",\n",
    "                edgecolor=\"k\", linewidth=2, zorder=10,\n",
    "                label=r\"$\\theta_{1}$\")\n",
    "\n",
    "func_ax.plot(xs, [taylor(x, -1.) for x in xs],\n",
    "             lw=shared.format.LINEWIDTH, color=\"C0\", ls=\"--\")\n",
    "func_ax.scatter(1., taylor(1., -1.),\n",
    "                color=\"C0\", s=400, marker=\"*\", zorder=10,\n",
    "                label=r\"$\\theta_0 + p^\\star$\")\n",
    "\n",
    "func_ax.legend(ncol=3)\n",
    "\n",
    "ymin = -1.\n",
    "func_ax.hlines(\n",
    "    ymin, np.min(acceptable_xs), np.max(acceptable_xs),\n",
    "    lw=shared.format.LINEWIDTH + 4, color=\"xkcd:brick\")\n",
    "func_ax.set_xlim([-1.5, 1.5])\n",
    "func_ax.set_ylim([ymin, 4]);\n",
    "func_ax.set_ylabel(r\"$f(\\theta)$\", fontsize=shared.format.FONTSIZE + 4)\n",
    "\n",
    "sgn_ymin = 0.\n",
    "sgn_ax.plot(xs, [np.square(grad(x)) for x in xs],\n",
    "            lw=shared.format.LINEWIDTH, color=\"C1\")\n",
    "sgn_ax.scatter(-1., np.square(grad(-1.)), color=\"C1\", s=189)\n",
    "sgn_ax.scatter(selected_x, np.square(grad(selected_x)), color=\"C1\", s=400, marker=\"*\",\n",
    "                edgecolor=\"k\", linewidth=2, zorder=10,\n",
    "                label=r\"$\\theta_{1}$\")\n",
    "sgn_ax.hlines(\n",
    "    sgn_ymin, np.min(acceptable_xs), np.max(acceptable_xs),\n",
    "    lw=shared.format.LINEWIDTH + 4, color=\"xkcd:brick\")\n",
    "sgn_ax.plot(xs_at_alphas, np.square(grad(-1.)) + sufficient_decrease,\n",
    "            lw=shared.format.LINEWIDTH, color=\"grey\", ls=\":\", zorder=0)\n",
    "sgn_ax.vlines(btls_xs, 0, 0.2)\n",
    "sgn_ax.set_yticks([0, 1, 2, 3])\n",
    "sgn_ax.set_xlabel(r\"$\\theta$\", fontsize=shared.format.FONTSIZE + 4)\n",
    "sgn_ax.set_ylabel(r\"$\\nabla f(\\theta) ^ 2$\", fontsize=shared.format.FONTSIZE + 4)\n",
    "sgn_ax.set_xlim([-1.5, 1.5])\n",
    "sgn_ax.set_ylim([sgn_ymin, 3.]);\n",
    "shared.tools.add_panel_label(\"A\", func_ax)\n",
    "shared.tools.add_panel_label(\"B\", sgn_ax)\n",
    "plt.savefig(\"btls.pdf\")"
   ]
  }
 ],
 "metadata": {
  "kernelspec": {
   "display_name": "Python 3",
   "language": "python",
   "name": "python3"
  },
  "language_info": {
   "codemirror_mode": {
    "name": "ipython",
    "version": 3
   },
   "file_extension": ".py",
   "mimetype": "text/x-python",
   "name": "python",
   "nbconvert_exporter": "python",
   "pygments_lexer": "ipython3",
   "version": "3.7.3"
  }
 },
 "nbformat": 4,
 "nbformat_minor": 4
}

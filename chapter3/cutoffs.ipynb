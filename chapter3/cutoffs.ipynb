{
 "cells": [
  {
   "cell_type": "code",
   "execution_count": null,
   "metadata": {},
   "outputs": [],
   "source": [
    "import pathlib\n",
    "import sys\n",
    "import warnings\n",
    "\n",
    "import autograd\n",
    "import autograd.numpy as np\n",
    "import matplotlib.pyplot as plt\n",
    "import pandas as pd\n",
    "\n",
    "import autocrit"
   ]
  },
  {
   "cell_type": "code",
   "execution_count": null,
   "metadata": {},
   "outputs": [],
   "source": [
    "sys.path.append(\"..\")\n",
    "\n",
    "import shared.format\n",
    "import shared.tools"
   ]
  },
  {
   "cell_type": "code",
   "execution_count": null,
   "metadata": {},
   "outputs": [],
   "source": [
    "plt.rcParams[\"font.size\"] = shared.format.FONTSIZE"
   ]
  },
  {
   "cell_type": "code",
   "execution_count": null,
   "metadata": {},
   "outputs": [],
   "source": [
    "pd.options.mode.chained_assignment = None\n",
    "\n",
    "warnings.filterwarnings(\n",
    "    \"ignore\", category=FutureWarning,\n",
    "    message=\"Using a non-tuple sequence for multidimensional indexing is deprecated;\",\n",
    "    module=\"autograd\")"
   ]
  },
  {
   "cell_type": "code",
   "execution_count": null,
   "metadata": {},
   "outputs": [],
   "source": [
    "import autocrit"
   ]
  },
  {
   "cell_type": "code",
   "execution_count": null,
   "metadata": {},
   "outputs": [],
   "source": [
    "import autocrit_tools\n",
    "import autocrit_tools.linearpaper.utils as utils"
   ]
  },
  {
   "cell_type": "code",
   "execution_count": null,
   "metadata": {},
   "outputs": [],
   "source": [
    "pickle_dir = pathlib.Path(\"data\") / \"linear-results\""
   ]
  },
  {
   "cell_type": "code",
   "execution_count": null,
   "metadata": {},
   "outputs": [],
   "source": [
    "analytical_cp_df = pd.read_pickle(pickle_dir / \"analytical_cp_df.pkl\")\n",
    "\n",
    "def compute_index(spectrum, eigval_cutoff=1e-5):\n",
    "    return np.mean(spectrum < -eigval_cutoff)\n",
    "\n",
    "analytical_cp_df[\"morse_index\"] = analytical_cp_df[\"hessian_spectrum\"].apply(compute_index)"
   ]
  },
  {
   "cell_type": "code",
   "execution_count": null,
   "metadata": {},
   "outputs": [],
   "source": [
    "cutoffs = [1e-10, 1e-6, 1e-4, np.inf]\n",
    "cutoff_strings = [r\"$\\varepsilon=$1e-10\", r\"$\\varepsilon=$1e-6\", r\"$\\varepsilon=$1e-4\", \"no cutoff\"]"
   ]
  },
  {
   "cell_type": "code",
   "execution_count": null,
   "metadata": {},
   "outputs": [],
   "source": [
    "cutoff_fnames = [\"1e-10\", \"1e-6\", \"1e-4\", \"none\"]\n",
    "\n",
    "cutoff_cp_df_names= [pickle_dir / (\"cutoff_\" + cutoff_fname + \".pkl\")\n",
    "                     for cutoff_fname in cutoff_fnames]\n",
    "\n",
    "reloaded_cutoff_cp_dfs = [pd.read_pickle(cutoff_cp_df_name)\n",
    "                          for cutoff_cp_df_name in cutoff_cp_df_names]"
   ]
  },
  {
   "cell_type": "code",
   "execution_count": null,
   "metadata": {},
   "outputs": [],
   "source": [
    "import string\n",
    "\n",
    "uppercase_letters = string.ascii_uppercase"
   ]
  },
  {
   "cell_type": "code",
   "execution_count": null,
   "metadata": {},
   "outputs": [],
   "source": [
    "labelsize = \"x-large\"\n",
    "titlesize = \"xx-large\"\n",
    "\n",
    "fig, axs = plt.subplots(figsize=(12, 12), nrows=2, ncols=2)\n",
    "\n",
    "[ax.set_xlabel(\"Index\", size=labelsize)\n",
    "  for ax in axs[1, :]]\n",
    "\n",
    "[ax.set_ylabel(r\"$L(\\theta)$\", size=labelsize)\n",
    "  for ax in axs[:, 0]]\n",
    "\n",
    "[ax.scatter(\n",
    "    analytical_cp_df[\"morse_index\"], analytical_cp_df[\"cost\"], color=\"gray\",\n",
    "    label=\"analytical\")\n",
    " for ax in axs.flatten()]\n",
    "\n",
    "[ax.scatter(\n",
    "    cutoff_cp_df[\"morse_index\"], cutoff_cp_df[\"candidate_loss\"], color=\"C0\",\n",
    "    label=\"numerical\")\n",
    " for cutoff_cp_df, ax in zip(reloaded_cutoff_cp_dfs, axs.flatten())]\n",
    "\n",
    "[ax.text(0.05, 0.9, cutoff_string, size=titlesize, transform=ax.transAxes)\n",
    " for cutoff_string, ax in zip(cutoff_strings, axs.flatten())]\n",
    "\n",
    "axs[-1, -1].legend(loc=\"lower right\");\n",
    "\n",
    "[shared.tools.add_panel_label(letter, ax, pos=(-0.1, 1.06))\n",
    " for letter, ax in zip(uppercase_letters, axs.flatten())]\n",
    "\n",
    "plt.tight_layout();\n",
    "plt.savefig(\"cutoffs.pdf\")"
   ]
  }
 ],
 "metadata": {
  "kernelspec": {
   "display_name": "Python 3",
   "language": "python",
   "name": "python3"
  },
  "language_info": {
   "codemirror_mode": {
    "name": "ipython",
    "version": 3
   },
   "file_extension": ".py",
   "mimetype": "text/x-python",
   "name": "python",
   "nbconvert_exporter": "python",
   "pygments_lexer": "ipython3",
   "version": "3.7.3"
  }
 },
 "nbformat": 4,
 "nbformat_minor": 4
}

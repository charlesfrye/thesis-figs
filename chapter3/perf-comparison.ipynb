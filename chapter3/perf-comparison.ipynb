{
 "cells": [
  {
   "cell_type": "code",
   "execution_count": null,
   "metadata": {},
   "outputs": [],
   "source": [
    "import pathlib\n",
    "import sys\n",
    "import string\n",
    "\n",
    "import autograd\n",
    "import autograd.numpy as np\n",
    "import matplotlib.pyplot as plt\n",
    "import pandas as pd\n",
    "\n",
    "import autocrit\n",
    "import autocrit_tools\n",
    "\n",
    "sys.path.append(\"..\")\n",
    "\n",
    "import shared.format\n",
    "import shared.tools\n",
    "import shared.criticalpoints as cps\n",
    "\n",
    "plt.rcParams[\"font.size\"] = shared.format.FONTSIZE"
   ]
  },
  {
   "cell_type": "code",
   "execution_count": null,
   "metadata": {},
   "outputs": [],
   "source": [
    "pickle_dir = pathlib.Path(\"data\") / \"linear-results\"\n",
    "\n",
    "analytical_cp_df = pd.read_pickle(pickle_dir / \"analytical_cp_df.pkl\")\n",
    "analytical_cp_df[\"morse_index\"] = analytical_cp_df[\"hessian_spectrum\"].apply(cps.compute_index)"
   ]
  },
  {
   "cell_type": "code",
   "execution_count": null,
   "metadata": {},
   "outputs": [],
   "source": [
    "MR_success_df = pd.read_pickle(pickle_dir / (\"newtonMR-success.pkl\"))\n",
    "MR_failure_df = pd.read_pickle(pickle_dir / (\"newtonMR-failure.pkl\"))"
   ]
  },
  {
   "cell_type": "code",
   "execution_count": null,
   "metadata": {},
   "outputs": [],
   "source": [
    "damped_success_df = pd.read_pickle(pickle_dir / (\"newtonTR-success.pkl\"))\n",
    "damped_failure_df = pd.read_pickle(pickle_dir / (\"newtonTR-failure.pkl\"))"
   ]
  },
  {
   "cell_type": "code",
   "execution_count": null,
   "metadata": {},
   "outputs": [],
   "source": [
    "gnm_success_df = pd.read_pickle(pickle_dir / (\"gnm-success.pkl\"))\n",
    "gnm_failure_df = pd.read_pickle(pickle_dir / (\"gnm-failure.pkl\"))"
   ]
  },
  {
   "cell_type": "code",
   "execution_count": null,
   "metadata": {},
   "outputs": [],
   "source": [
    "success_dfs = [MR_success_df, damped_success_df, gnm_success_df]\n",
    "failure_dfs = [MR_failure_df, damped_failure_df, gnm_failure_df]"
   ]
  },
  {
   "cell_type": "code",
   "execution_count": null,
   "metadata": {},
   "outputs": [],
   "source": [
    "titles = [\"Newton-MR\", \"Damped Newton\", \"BTLS-GNM\"]"
   ]
  },
  {
   "cell_type": "code",
   "execution_count": null,
   "metadata": {},
   "outputs": [],
   "source": [
    "def calculate_success_probability(success_df, failure_df):\n",
    "    return len(success_df) / (len(success_df) + len(failure_df))\n",
    "\n",
    "def calculate_success_sem(success_df, failure_df):\n",
    "    p = calculate_success_probability(success_df, failure_df)\n",
    "    return np.sqrt(p * (1 - p)) / np.sqrt(len(success_df) + len(failure_df))"
   ]
  },
  {
   "cell_type": "code",
   "execution_count": null,
   "metadata": {},
   "outputs": [],
   "source": [
    "[print(title, \": \",\n",
    "       calculate_success_probability(success_df, failure_df),\n",
    "       \"+/-\", calculate_success_sem(success_df, failure_df))\n",
    "      for title, success_df, failure_df in zip(titles, success_dfs, failure_dfs)];"
   ]
  },
  {
   "cell_type": "code",
   "execution_count": null,
   "metadata": {},
   "outputs": [],
   "source": [
    "def compute_iteration_ct(df):\n",
    "    return df[\"losses\"].apply(len).sum()\n",
    "\n",
    "\n",
    "def compute_iteration_mean(df):\n",
    "    return compute_iteration_ct(df) / len(df)\n",
    "\n",
    "\n",
    "def compute_iteration_std(df):\n",
    "    return df[\"losses\"].apply(len).std()\n",
    "\n",
    "\n",
    "def compute_iteration_sem(df):\n",
    "    return compute_iteration_std(df) / np.sqrt(len(df))"
   ]
  },
  {
   "cell_type": "code",
   "execution_count": null,
   "metadata": {},
   "outputs": [],
   "source": [
    "[print(title, \":\",\n",
    "       round(compute_iteration_mean(success_df)),\n",
    "       \"+/-\", round(compute_iteration_sem(success_df)))\n",
    "      for title, success_df in zip(titles, success_dfs)];"
   ]
  },
  {
   "cell_type": "code",
   "execution_count": null,
   "metadata": {},
   "outputs": [],
   "source": [
    "elapsed_times = [27 + 1/3, 77.75, 27]"
   ]
  },
  {
   "cell_type": "code",
   "execution_count": null,
   "metadata": {},
   "outputs": [],
   "source": [
    "times_per_cp = [60 * time / len(cp_df) for time, cp_df in zip(elapsed_times, success_dfs)]\n",
    "times_per_cp"
   ]
  },
  {
   "cell_type": "code",
   "execution_count": null,
   "metadata": {},
   "outputs": [],
   "source": [
    "fig, axs = plt.subplots(figsize=(18, 12), nrows=2, ncols=3)\n",
    "\n",
    "sgn_axs = axs[0]\n",
    "loss_index_axs = axs[1]\n",
    "\n",
    "## Squared Gradient Norms\n",
    "\n",
    "[cps.make_trajectory_panel(success_df, failure_df, ax=sgn_ax)\n",
    "for success_df, failure_df, sgn_ax in zip(success_dfs, failure_dfs, sgn_axs)]\n",
    "[ax.set_ylabel(\"\") for ax in sgn_axs[1:]]\n",
    "\n",
    "## Loss-Index\n",
    "\n",
    "[cps.make_loss_index_panel(success_df, analytical_cp_df, ax=ax)\n",
    " for success_df, ax in zip(success_dfs, loss_index_axs)]\n",
    "[ax.set_ylim(loss_index_axs[0].get_ylim()) for ax in loss_index_axs]\n",
    "[ax.set_ylabel(\"\") for ax in loss_index_axs[1:]]\n",
    "\n",
    "## Legend,Titles, Panels\n",
    "\n",
    "axs[-1, -1].legend(loc=\"lower right\");\n",
    "\n",
    "[ax.set_title(title, size=shared.format.TITLESIZE)\n",
    "    for title, ax in zip(titles, sgn_axs)]\n",
    "\n",
    "[shared.tools.add_panel_label(letter, ax, pos=(-0.1, 1.1), size=shared.format.TITLESIZE)\n",
    " for letter, ax in zip(string.ascii_uppercase, axs.flatten())]\n",
    "\n",
    "plt.tight_layout();\n",
    "plt.savefig(\"perf-comparison.pdf\")"
   ]
  },
  {
   "cell_type": "code",
   "execution_count": null,
   "metadata": {},
   "outputs": [],
   "source": []
  }
 ],
 "metadata": {
  "kernelspec": {
   "display_name": "Python 3",
   "language": "python",
   "name": "python3"
  },
  "language_info": {
   "codemirror_mode": {
    "name": "ipython",
    "version": 3
   },
   "file_extension": ".py",
   "mimetype": "text/x-python",
   "name": "python",
   "nbconvert_exporter": "python",
   "pygments_lexer": "ipython3",
   "version": "3.7.3"
  }
 },
 "nbformat": 4,
 "nbformat_minor": 4
}

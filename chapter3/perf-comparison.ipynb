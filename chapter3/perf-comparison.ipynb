{
 "cells": [
  {
   "cell_type": "code",
   "execution_count": null,
   "metadata": {},
   "outputs": [],
   "source": [
    "import pathlib\n",
    "import sys\n",
    "\n",
    "import autograd\n",
    "import autograd.numpy as np\n",
    "import matplotlib.pyplot as plt\n",
    "import pandas as pd\n",
    "\n",
    "import autocrit"
   ]
  },
  {
   "cell_type": "code",
   "execution_count": null,
   "metadata": {},
   "outputs": [],
   "source": [
    "sys.path.append(\"..\")\n",
    "\n",
    "import shared.format\n",
    "import shared.tools"
   ]
  },
  {
   "cell_type": "code",
   "execution_count": null,
   "metadata": {},
   "outputs": [],
   "source": [
    "plt.rcParams[\"font.size\"] = shared.format.FONTSIZE"
   ]
  },
  {
   "cell_type": "code",
   "execution_count": null,
   "metadata": {},
   "outputs": [],
   "source": [
    "import autocrit"
   ]
  },
  {
   "cell_type": "code",
   "execution_count": null,
   "metadata": {},
   "outputs": [],
   "source": [
    "import autocrit_tools"
   ]
  },
  {
   "cell_type": "code",
   "execution_count": null,
   "metadata": {},
   "outputs": [],
   "source": [
    "pickle_dir = pathlib.Path(\"data\") / \"linear-results\"\n",
    "\n",
    "analytical_cp_df = pd.read_pickle(pickle_dir / \"analytical_cp_df.pkl\")\n",
    "\n",
    "def compute_index(spectrum, eigval_cutoff=1e-5):\n",
    "    return np.mean(spectrum < -eigval_cutoff)\n",
    "\n",
    "analytical_cp_df[\"index\"] = analytical_cp_df[\"hessian_spectrum\"].apply(compute_index)"
   ]
  },
  {
   "cell_type": "code",
   "execution_count": null,
   "metadata": {},
   "outputs": [],
   "source": [
    "import string\n",
    "\n",
    "uppercase_letters = string.ascii_uppercase"
   ]
  },
  {
   "cell_type": "code",
   "execution_count": null,
   "metadata": {},
   "outputs": [],
   "source": [
    "labelsize = \"x-large\"\n",
    "titlesize = \"xx-large\"\n",
    "\n",
    "fig, axs = plt.subplots(figsize=(18, 12), nrows=2, ncols=3)\n",
    "[(ax.set_xlabel(\"Iteration\", size=labelsize),\n",
    "  ax.set_ylabel(r\"$\\|\\|\\nabla L(\\theta)\\|\\|^2$\", size=labelsize))\n",
    "  for ax in axs[0]]\n",
    "\n",
    "[(ax.set_xlabel(\"Index\", size=labelsize),\n",
    "  ax.set_ylabel(r\"$L(\\theta)$\", size=labelsize))\n",
    "  for ax in axs[1]]\n",
    "\n",
    "axs[0, 0].set_title(\"Newton-MR\", size=titlesize)\n",
    "axs[0, 1].set_title(\"Damped Newton\", size=titlesize)\n",
    "axs[0, 2].set_title(\"BTLS-GNM\", size=titlesize)\n",
    "\n",
    "[ax.scatter(\n",
    "    analytical_cp_df[\"index\"], analytical_cp_df[\"cost\"], color=\"gray\",\n",
    "    label=\"analytical\")\n",
    " for ax in axs[1]]\n",
    "\n",
    "axs[-1, -1].legend(loc=\"lower right\");\n",
    "\n",
    "[shared.tools.add_panel_label(letter, ax, pos=(-0.1, 1.1), size=titlesize)\n",
    " for letter, ax in zip(uppercase_letters, axs.flatten())]\n",
    "\n",
    "plt.tight_layout();\n",
    "plt.savefig(\"perf-comparison.pdf\")"
   ]
  }
 ],
 "metadata": {
  "kernelspec": {
   "display_name": "Python 3",
   "language": "python",
   "name": "python3"
  },
  "language_info": {
   "codemirror_mode": {
    "name": "ipython",
    "version": 3
   },
   "file_extension": ".py",
   "mimetype": "text/x-python",
   "name": "python",
   "nbconvert_exporter": "python",
   "pygments_lexer": "ipython3",
   "version": "3.7.3"
  }
 },
 "nbformat": 4,
 "nbformat_minor": 4
}

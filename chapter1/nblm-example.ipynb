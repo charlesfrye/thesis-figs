{
 "cells": [
  {
   "cell_type": "code",
   "execution_count": null,
   "metadata": {},
   "outputs": [],
   "source": [
    "from collections import namedtuple\n",
    "import sys\n",
    "\n",
    "import autograd\n",
    "import matplotlib.pyplot as plt\n",
    "import autograd.numpy as np\n",
    "\n",
    "sys.path.append(\"..\")\n",
    "\n",
    "import shared.format\n",
    "import shared.tools"
   ]
  },
  {
   "cell_type": "code",
   "execution_count": null,
   "metadata": {},
   "outputs": [],
   "source": [
    "plt.rcParams[\"font.size\"] = shared.format.FONTSIZE"
   ]
  },
  {
   "cell_type": "code",
   "execution_count": null,
   "metadata": {},
   "outputs": [],
   "source": [
    "xs = ys = np.linspace(-2, 2, num=100)\n",
    "Xs, Ys = np.meshgrid(xs, ys)"
   ]
  },
  {
   "cell_type": "code",
   "execution_count": null,
   "metadata": {},
   "outputs": [],
   "source": [
    "def f(xy):\n",
    "    return np.power(xy[0], 2.) * np.power(xy[1], 2.) - 2 * np.prod(xy) + 1."
   ]
  },
  {
   "cell_type": "code",
   "execution_count": null,
   "metadata": {},
   "outputs": [],
   "source": [
    "fXYs = np.reshape([f([x, y]) for x, y in zip(Xs.flatten(), Ys.flatten())], newshape=Xs.shape)"
   ]
  },
  {
   "cell_type": "code",
   "execution_count": null,
   "metadata": {},
   "outputs": [],
   "source": [
    "grad_f = autograd.grad(f)"
   ]
  },
  {
   "cell_type": "code",
   "execution_count": null,
   "metadata": {},
   "outputs": [],
   "source": [
    "import matplotlib as mpl"
   ]
  },
  {
   "cell_type": "code",
   "execution_count": null,
   "metadata": {},
   "outputs": [],
   "source": [
    "mpl.rcParams['font.size'] = 16"
   ]
  },
  {
   "cell_type": "code",
   "execution_count": null,
   "metadata": {},
   "outputs": [],
   "source": [
    "fig, ax = plt.subplots(figsize=(8, 8))\n",
    "\n",
    "ax.contourf(\n",
    "    Xs, Ys, np.log(fXYs + 1e-1), levels=10,\n",
    "    cmap=\"Greys_r\")\n",
    "ax.contour(\n",
    "    Xs, Ys, np.log(fXYs + 1e-1), levels=10,\n",
    "    cmap=\"Greys_r\", linewidths=shared.format.LINEWIDTH)\n",
    "ax.axis(\"off\")\n",
    "\n",
    "ax.scatter(\n",
    "    0, 0,\n",
    "    label=r\"$\\Theta^L_\\mathrm{cp}$\",\n",
    "    s=12**2,\n",
    ")\n",
    "\n",
    "ax.plot(\n",
    "    xs[xs < 0], np.divide(1, xs[xs < 0]),\n",
    "    lw=shared.format.LINEWIDTH + 4, color=\"C1\")\n",
    "ax.plot(\n",
    "    xs[xs < 0], np.divide(1, xs[xs < 0]),\n",
    "    lw=shared.format.LINEWIDTH, color=\"C0\")\n",
    "ax.plot(\n",
    "    xs[xs > 0], np.divide(1, xs[xs > 0]),\n",
    "    lw=shared.format.LINEWIDTH + 4, color=\"C1\",\n",
    "    label=r\"$\\arg\\min\\ L$\")\n",
    "ax.plot(\n",
    "    xs[xs > 0], np.divide(1, xs[xs > 0]),\n",
    "    lw=shared.format.LINEWIDTH, color=\"C0\")\n",
    "ax.set_xlim([-2, 2])\n",
    "ax.set_ylim([-2, 2])\n",
    "\n",
    "ax.legend(loc=[0.22, -0.1], ncol=2);\n",
    "\n",
    "fig.savefig(\"nblm-example.pdf\")"
   ]
  }
 ],
 "metadata": {
  "kernelspec": {
   "display_name": "Python 3",
   "language": "python",
   "name": "python3"
  },
  "language_info": {
   "codemirror_mode": {
    "name": "ipython",
    "version": 3
   },
   "file_extension": ".py",
   "mimetype": "text/x-python",
   "name": "python",
   "nbconvert_exporter": "python",
   "pygments_lexer": "ipython3",
   "version": "3.7.3"
  }
 },
 "nbformat": 4,
 "nbformat_minor": 2
}

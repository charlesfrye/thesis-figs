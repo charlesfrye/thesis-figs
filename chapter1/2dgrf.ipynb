{
 "cells": [
  {
   "cell_type": "code",
   "execution_count": null,
   "metadata": {},
   "outputs": [],
   "source": [
    "import random\n",
    "import sys\n",
    "\n",
    "import autograd.numpy as np\n",
    "import matplotlib.pyplot as plt\n",
    "from mpl_toolkits.mplot3d import Axes3D\n",
    "from scipy.signal import convolve\n",
    "import scipy.stats\n",
    "\n",
    "sys.path.append(\"..\")\n",
    "\n",
    "import shared.format\n",
    "import shared.tools"
   ]
  },
  {
   "cell_type": "code",
   "execution_count": null,
   "metadata": {},
   "outputs": [],
   "source": [
    "SEED = 14\n",
    "\n",
    "np.random.seed(SEED)\n",
    "random.seed(SEED)"
   ]
  },
  {
   "cell_type": "code",
   "execution_count": null,
   "metadata": {},
   "outputs": [],
   "source": [
    "def gauss_random_field(x, y, scale):\n",
    "    white_field = np.random.standard_normal(size=x.shape)\n",
    "\n",
    "    pos = np.empty(x.shape + (2,))\n",
    "    pos[:, :, 0] = x; pos[:, :, 1] = y\n",
    "    gauss_rv = scipy.stats.multivariate_normal([0,0], cov=np.ones(2))\n",
    "    gauss_pdf = gauss_rv.pdf(pos)\n",
    "    red_field = scale * convolve(white_field, gauss_pdf, mode='same')\n",
    "    return red_field\n",
    "\n",
    "def plot_cost_surface(cost, N, mesh_extent, ax=None):\n",
    "    mesh = np.linspace(-mesh_extent, mesh_extent, N)\n",
    "    weights1, weights2 = np.meshgrid(mesh, mesh)\n",
    "\n",
    "    if ax is  None:\n",
    "        fig = plt.figure()\n",
    "        ax = fig.add_subplot(111, projection='3d')\n",
    "\n",
    "    ax._axis3don = False\n",
    "\n",
    "    ax.plot_surface(weights1, weights2, cost(weights1, weights2),\n",
    "                      rstride=2, cstride=2, linewidth=0.5, edgecolor='C0',\n",
    "                      alpha=1, color=\"white\",\n",
    "                      shade=True\n",
    "                     );\n",
    "\n",
    "    axis_equal_3d(ax, center=True)"
   ]
  },
  {
   "cell_type": "code",
   "execution_count": null,
   "metadata": {},
   "outputs": [],
   "source": [
    "scale = 1.\n",
    "N = 100\n",
    "mesh_extent = 10\n",
    "\n",
    "grf = lambda x, y: gauss_random_field(x, y,  scale=scale)"
   ]
  },
  {
   "cell_type": "code",
   "execution_count": null,
   "metadata": {},
   "outputs": [],
   "source": [
    "def axis_equal_3d(ax,center=0):\n",
    "    # FROM StackO/19933125\n",
    "\n",
    "    extents = np.array([getattr(ax, 'get_{}lim'.format(dim))() for dim in 'xyz'])\n",
    "    sz = extents[:,1] - extents[:,0]\n",
    "    if center == 0:\n",
    "        centers = [0,0,0]\n",
    "    else:\n",
    "        centers = np.mean(extents, axis=1)\n",
    "    maxsize = max(abs(sz))\n",
    "    r = maxsize/2\n",
    "    for ctr, dim in zip(centers, 'xyz'):\n",
    "        getattr(ax, 'set_{}lim'.format(dim))(ctr - r, ctr + r)"
   ]
  },
  {
   "cell_type": "code",
   "execution_count": null,
   "metadata": {},
   "outputs": [],
   "source": [
    "fig = plt.figure(figsize=(8, 8))\n",
    "ax = fig.add_subplot(111, projection='3d')\n",
    "plot_cost_surface(grf, N, mesh_extent, ax)\n",
    "fig.subplots_adjust(left=0, right=1, bottom=0, top=1)\n",
    "bbox = fig.bbox_inches.from_bounds(1, 2, 6, 4)\n",
    "fig.savefig(\"2dgrf.pdf\", bbox_inches=bbox)"
   ]
  }
 ],
 "metadata": {
  "kernelspec": {
   "display_name": "Python 3",
   "language": "python",
   "name": "python3"
  },
  "language_info": {
   "codemirror_mode": {
    "name": "ipython",
    "version": 3
   },
   "file_extension": ".py",
   "mimetype": "text/x-python",
   "name": "python",
   "nbconvert_exporter": "python",
   "pygments_lexer": "ipython3",
   "version": "3.7.3"
  }
 },
 "nbformat": 4,
 "nbformat_minor": 4
}

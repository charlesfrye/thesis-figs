{
 "cells": [
  {
   "cell_type": "code",
   "execution_count": null,
   "metadata": {},
   "outputs": [],
   "source": [
    "import random\n",
    "import sys\n",
    "\n",
    "import autograd.numpy as np\n",
    "import matplotlib.gridspec as gridspec\n",
    "import matplotlib.pyplot as plt\n",
    "from mpl_toolkits.mplot3d import Axes3D\n",
    "from scipy.signal import convolve\n",
    "import scipy.stats"
   ]
  },
  {
   "cell_type": "code",
   "execution_count": null,
   "metadata": {},
   "outputs": [],
   "source": [
    "sys.path.append(\"..\")\n",
    "\n",
    "import shared.format\n",
    "import shared.tools"
   ]
  },
  {
   "cell_type": "code",
   "execution_count": null,
   "metadata": {},
   "outputs": [],
   "source": [
    "SEED = 14\n",
    "\n",
    "np.random.seed(SEED)\n",
    "random.seed(SEED)"
   ]
  },
  {
   "cell_type": "code",
   "execution_count": null,
   "metadata": {},
   "outputs": [],
   "source": [
    "import autocrit.utils.random_matrix"
   ]
  },
  {
   "cell_type": "code",
   "execution_count": null,
   "metadata": {},
   "outputs": [],
   "source": [
    "plt.rcParams[\"font.size\"] = shared.format.FONTSIZE"
   ]
  },
  {
   "cell_type": "code",
   "execution_count": null,
   "metadata": {},
   "outputs": [],
   "source": [
    "wigner = autocrit.utils.random_matrix.SymmetricWigner(50)"
   ]
  },
  {
   "cell_type": "code",
   "execution_count": null,
   "metadata": {},
   "outputs": [],
   "source": [
    "spectrum = wigner.eigvals()"
   ]
  },
  {
   "cell_type": "code",
   "execution_count": null,
   "metadata": {},
   "outputs": [],
   "source": [
    "precision = 1e-4"
   ]
  },
  {
   "cell_type": "code",
   "execution_count": null,
   "metadata": {},
   "outputs": [],
   "source": [
    "lams = wigner.generate_lams(wigner.max_lam + precision, precision)\n",
    "expected_spectrum = [wigner.expected_spectral_density(lam) for lam in lams]\n",
    "\n",
    "expected_csds = wigner.expected_cumulative_spectral_distribution(\n",
    "    wigner.max_lam + precision, precision, accumulate=True)"
   ]
  },
  {
   "cell_type": "code",
   "execution_count": null,
   "metadata": {},
   "outputs": [],
   "source": [
    "fig = plt.figure(figsize=(12, 4))\n",
    "spec = gridspec.GridSpec(ncols=3, nrows=1, figure=fig)\n",
    "mat_ax = fig.add_subplot(spec[0, 0])\n",
    "spec_ax = fig.add_subplot(spec[0, 1])\n",
    "cdf_ax = fig.add_subplot(spec[0, 2])\n",
    "\n",
    "mat_ax.imshow(wigner.M, cmap=\"Greys\")\n",
    "mat_ax.axis(\"off\")\n",
    "\n",
    "spec_ax.hist(spectrum, density=True, histtype=\"step\",\n",
    "             lw=shared.format.LINEWIDTH,\n",
    "             label=\"Empirical\")\n",
    "spec_ax.plot(lams, expected_spectrum,\n",
    "             lw=shared.format.LINEWIDTH, linestyle=\"--\",\n",
    "             label=\"Semicircular\")\n",
    "spec_ax.set_ylabel(r\"$\\rho$\", fontdict={\"size\": \"large\"})\n",
    "spec_ax.set_xlabel(r\"$\\lambda$\", fontdict={\"size\": \"large\"})\n",
    "\n",
    "cdf_ax.step(np.array([-2] + list(spectrum) + [2]),\n",
    "            np.divide([0] + list(range(len(spectrum))) + [len(spectrum)], len(spectrum)),\n",
    "            lw=shared.format.LINEWIDTH)\n",
    "cdf_ax.plot(lams[1:], expected_csds,\n",
    "            lw=shared.format.LINEWIDTH, linestyle=\"--\")\n",
    "cdf_ax.set_ylabel(r\"$\\rho(\\lambda \\leq \\Lambda)$\", fontdict={\"size\": \"large\"})\n",
    "cdf_ax.set_xlabel(r\"$\\lambda$\", fontdict={\"size\": \"large\"})\n",
    "\n",
    "fig.tight_layout()\n",
    "spec_ax.legend(loc=[0.45, -0.4], ncol=2);\n",
    "\n",
    "shared.tools.add_panel_label(\"A\", mat_ax)\n",
    "shared.tools.add_panel_label(\"B\", spec_ax)\n",
    "shared.tools.add_panel_label(\"C\", cdf_ax)\n",
    "\n",
    "bbox = fig.bbox_inches.from_bounds(-0.25, -0.5, 12.25, 5.)\n",
    "fig.savefig(\"wigner-rm.pdf\", bbox_inches=bbox)"
   ]
  }
 ],
 "metadata": {
  "kernelspec": {
   "display_name": "Python 3",
   "language": "python",
   "name": "python3"
  },
  "language_info": {
   "codemirror_mode": {
    "name": "ipython",
    "version": 3
   },
   "file_extension": ".py",
   "mimetype": "text/x-python",
   "name": "python",
   "nbconvert_exporter": "python",
   "pygments_lexer": "ipython3",
   "version": "3.7.3"
  }
 },
 "nbformat": 4,
 "nbformat_minor": 4
}

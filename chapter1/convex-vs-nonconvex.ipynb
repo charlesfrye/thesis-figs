{
 "cells": [
  {
   "cell_type": "code",
   "execution_count": null,
   "metadata": {},
   "outputs": [],
   "source": [
    "from collections import namedtuple\n",
    "import sys\n",
    "\n",
    "import matplotlib.pyplot as plt\n",
    "import autograd.numpy as np\n",
    "\n",
    "sys.path.append(\"..\")\n",
    "\n",
    "import shared.format\n",
    "import shared.tools"
   ]
  },
  {
   "cell_type": "code",
   "execution_count": null,
   "metadata": {},
   "outputs": [],
   "source": [
    "Function = namedtuple(\"Function\", [\"call\", \"minimizers\", \"cps\"])"
   ]
  },
  {
   "cell_type": "code",
   "execution_count": null,
   "metadata": {},
   "outputs": [],
   "source": [
    "def convex(xs):\n",
    "    return np.power(xs, 2)"
   ]
  },
  {
   "cell_type": "code",
   "execution_count": null,
   "metadata": {},
   "outputs": [],
   "source": [
    "convex_function = Function(convex, [0], [0])"
   ]
  },
  {
   "cell_type": "code",
   "execution_count": null,
   "metadata": {},
   "outputs": [],
   "source": [
    "def nonconvex(xs):\n",
    "    return np.cos(np.multiply(xs, np.pi)) + xs + np.power(xs, 2)"
   ]
  },
  {
   "cell_type": "code",
   "execution_count": null,
   "metadata": {},
   "outputs": [],
   "source": [
    "nonconvex_cps = [-0.914912, 0.131749, 0.717657]  # from wolfram-alpha\n",
    "nonconvex_function = Function(nonconvex, nonconvex_cps, nonconvex_cps[0])"
   ]
  },
  {
   "cell_type": "code",
   "execution_count": null,
   "metadata": {},
   "outputs": [],
   "source": [
    "xs = np.linspace(-2, 2, num=1000)"
   ]
  },
  {
   "cell_type": "code",
   "execution_count": null,
   "metadata": {},
   "outputs": [],
   "source": [
    "def plot_function(function, xs=np.linspace(-2, 2, num=1000), ax=None):\n",
    "    if ax is None:\n",
    "        fig, ax = plt.subplots()\n",
    "        \n",
    "    ax.plot(xs, function.call(xs), lw=shared.format.LINEWIDTH,\n",
    "            label=r\"$L(\\theta)$\", color=\"k\")\n",
    "    ax.axis(\"off\")\n",
    "    ax.scatter(function.minimizers, function.call(function.minimizers),\n",
    "               s=12**2, color=\"C1\", zorder=3,\n",
    "               label=r\"$\\Theta^L_{\\mathrm{cp}}$\")\n",
    "    ax.scatter(function.cps, function.call(function.cps),\n",
    "               s=13**2,\n",
    "               color=\"C0\", zorder=3, facecolor=\"none\", lw=shared.format.LINEWIDTH - 1,\n",
    "               label=r\"$\\arg\\min\\ L$\")"
   ]
  },
  {
   "cell_type": "code",
   "execution_count": null,
   "metadata": {},
   "outputs": [],
   "source": [
    "def add_panel_label(label, ax, pos=(-0.1, 1.15), size=\"x-large\"):\n",
    "    ax.text(*pos, label, transform=ax.transAxes,\n",
    "            size=size,\n",
    "            fontweight='bold', va='top', ha='right')"
   ]
  },
  {
   "cell_type": "code",
   "execution_count": null,
   "metadata": {},
   "outputs": [],
   "source": [
    "f, [cvx_ax, ncvx_ax] = plt.subplots(ncols=2, figsize=(12, 6))\n",
    "\n",
    "plot_function(convex_function, ax=cvx_ax)\n",
    "plot_function(nonconvex_function, ax=ncvx_ax)\n",
    "cvx_ax.legend(ncol=3, loc=(0.5, -0.1))\n",
    "\n",
    "shared.tools.add_panel_label(\"A\", cvx_ax)\n",
    "shared.tools.add_panel_label(\"B\", ncvx_ax)\n",
    "\n",
    "f.savefig(\"convex-vs-nonconvex.pdf\")"
   ]
  }
 ],
 "metadata": {
  "kernelspec": {
   "display_name": "Python 3",
   "language": "python",
   "name": "python3"
  },
  "language_info": {
   "codemirror_mode": {
    "name": "ipython",
    "version": 3
   },
   "file_extension": ".py",
   "mimetype": "text/x-python",
   "name": "python",
   "nbconvert_exporter": "python",
   "pygments_lexer": "ipython3",
   "version": "3.7.3"
  }
 },
 "nbformat": 4,
 "nbformat_minor": 2
}
